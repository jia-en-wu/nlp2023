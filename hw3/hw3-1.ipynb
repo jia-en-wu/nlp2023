{
 "cells": [
  {
   "cell_type": "code",
   "execution_count": null,
   "id": "1099a4ce",
   "metadata": {},
   "outputs": [],
   "source": [
    "# 計算詞頻\n",
    "word_count = Counter(word_list)\n",
    "\n",
    "# 取出前100個高頻詞\n",
    "top100_word_freq = word_count.most_common(100)\n",
    "import jieba.analyse\n",
    "\n",
    "# 計算TF-IDF權重\n",
    "tfidf = jieba.analyse.extract_tags(text, topK=100, withWeight=True)"
   ]
  },
  {
   "cell_type": "code",
   "execution_count": null,
   "id": "b74ddd0e",
   "metadata": {},
   "outputs": [],
   "source": [
    "word_list = "
   ]
  },
  {
   "cell_type": "code",
   "execution_count": 2,
   "id": "b6dde7dd",
   "metadata": {},
   "outputs": [],
   "source": [
    "import json\n",
    "from sklearn.feature_extraction.text import TfidfVectorizer\n",
    "\n",
    "# 读取 movies.json 文件\n",
    "with open('movies_12.json', 'r', encoding='utf-8') as f:\n",
    "    movies = json.load(f)\n",
    "\n",
    "# 获取所有电影的文本内容，组成一个列表\n",
    "movie_texts = [movie['intro'] for movie in movies]\n",
    "\n",
    "# 使用 TfidfVectorizer 进行分词和计算 TF-IDF\n",
    "vectorizer = TfidfVectorizer()\n",
    "tfidf = vectorizer.fit_transform(movie_texts)\n"
   ]
  },
  {
   "cell_type": "code",
   "execution_count": 9,
   "id": "8a18dfcd",
   "metadata": {},
   "outputs": [
    {
     "name": "stdout",
     "output_type": "stream",
     "text": [
      "KNN: 39.18%\n"
     ]
    },
    {
     "name": "stderr",
     "output_type": "stream",
     "text": [
      "C:\\Users\\user\\anaconda3\\lib\\site-packages\\sklearn\\neighbors\\_classification.py:228: FutureWarning: Unlike other reduction functions (e.g. `skew`, `kurtosis`), the default behavior of `mode` typically preserves the axis it acts along. In SciPy 1.11.0, this behavior will change: the default value of `keepdims` will become False, the `axis` over which the statistic is taken will be eliminated, and the value None will no longer be accepted. Set `keepdims` to True or False to avoid this warning.\n",
      "  mode, _ = stats.mode(_y[neigh_ind, k], axis=1)\n"
     ]
    }
   ],
   "source": [
    "import json\n",
    "from sklearn.feature_extraction.text import TfidfVectorizer\n",
    "from sklearn.neighbors import KNeighborsClassifier\n",
    "from sklearn.metrics import accuracy_score\n",
    "\n",
    "with open(\"movies.json\", \"r\", encoding=\"utf-8\") as f:\n",
    "    movies = json.load(f)\n",
    "\n",
    "\n",
    "texts = [movie[\"intro\"] for movie in movies]\n",
    "vectorizer = TfidfVectorizer()\n",
    "X = vectorizer.fit_transform(texts)\n",
    "\n",
    "\n",
    "train_data = X[:12396]\n",
    "train_labels = [movie[\"moive_label\"][0] for movie in movies[:12396]]\n",
    "test_data = X[12396:]\n",
    "test_labels = [movie[\"moive_label\"][0] for movie in movies[12396:]]\n",
    "\n",
    "\n",
    "knn = KNeighborsClassifier(n_neighbors=5, metric=\"cosine\")\n",
    "knn.fit(train_data, train_labels)\n",
    "\n",
    "# 预测测试数据集的分类结果\n",
    "predictions = knn.predict(test_data)\n",
    "\n",
    "# \n",
    "accuracy = accuracy_score(test_labels, predictions)\n",
    "print(\"KNN: {:.2f}%\".format(accuracy * 100))\n"
   ]
  },
  {
   "cell_type": "code",
   "execution_count": 7,
   "id": "ba79181a",
   "metadata": {},
   "outputs": [
    {
     "name": "stdout",
     "output_type": "stream",
     "text": [
      "Accuracy: 56.94%\n"
     ]
    }
   ],
   "source": [
    "#svm\n",
    "import json\n",
    "from sklearn.feature_extraction.text import TfidfVectorizer\n",
    "from sklearn.model_selection import train_test_split\n",
    "from sklearn.svm import SVC\n",
    "from sklearn.metrics import accuracy_score\n",
    "\n",
    "\n",
    "with open(\"movies.json\", \"r\", encoding=\"utf-8\") as f:\n",
    "    data = json.load(f)\n",
    "texts = [d[\"intro\"] for d in data]\n",
    "labels = [d[\"moive_label\"] for d in data]\n",
    "\n",
    "\n",
    "vectorizer = TfidfVectorizer()\n",
    "X = vectorizer.fit_transform(texts)\n",
    "\n",
    "\n",
    "X_train, X_test, y_train, y_test = train_test_split(X, labels, test_size=0.1, random_state=42)\n",
    "\n",
    "\n",
    "svm = SVC(kernel='linear', C=1.0)\n",
    "svm.fit(X_train, y_train)\n",
    "y_pred = svm.predict(X_test)\n",
    "\n",
    "\n",
    "accuracy = accuracy_score(y_test, y_pred)\n",
    "print(\"Accuracy: {:.2f}%\".format(accuracy * 100))\n"
   ]
  },
  {
   "cell_type": "code",
   "execution_count": 8,
   "id": "c37a0ef7",
   "metadata": {},
   "outputs": [
    {
     "name": "stdout",
     "output_type": "stream",
     "text": [
      "SVM classification accuracy: 0.6168\n"
     ]
    }
   ],
   "source": [
    "from sklearn.feature_extraction.text import TfidfVectorizer\n",
    "from sklearn.svm import SVC\n",
    "from sklearn.metrics import accuracy_score\n",
    "import json\n",
    "\n",
    "\n",
    "with open('movies_12.json', 'r', encoding='utf-8') as f:\n",
    "    movies = json.load(f)\n",
    "\n",
    "texts = [movie['intro'] for movie in movies]\n",
    "labels = [movie['moive_label'][0] for movie in movies]\n",
    "\n",
    "vectorizer = TfidfVectorizer()\n",
    "X = vectorizer.fit_transform(texts)\n",
    "\n",
    "train_X, train_y = X[:12396], labels[:12396]\n",
    "test_X, test_y = X[12396:], labels[12396:]\n",
    "\n",
    "# Train \n",
    "clf = SVC(kernel='linear')\n",
    "clf.fit(train_X, train_y)\n",
    "\n",
    "# Predict\n",
    "pred_y = clf.predict(test_X)\n",
    "\n",
    "#accuracy\n",
    "accuracy = accuracy_score(test_y, pred_y)\n",
    "print(f'SVM classification accuracy: {accuracy:.4f}')\n"
   ]
  },
  {
   "cell_type": "code",
   "execution_count": null,
   "id": "9492c8d2",
   "metadata": {},
   "outputs": [],
   "source": []
  }
 ],
 "metadata": {
  "kernelspec": {
   "display_name": "Python 3 (ipykernel)",
   "language": "python",
   "name": "python3"
  },
  "language_info": {
   "codemirror_mode": {
    "name": "ipython",
    "version": 3
   },
   "file_extension": ".py",
   "mimetype": "text/x-python",
   "name": "python",
   "nbconvert_exporter": "python",
   "pygments_lexer": "ipython3",
   "version": "3.9.13"
  }
 },
 "nbformat": 4,
 "nbformat_minor": 5
}
